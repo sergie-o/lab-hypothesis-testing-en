{
 "cells": [
  {
   "cell_type": "markdown",
   "metadata": {},
   "source": [
    "# Before your start:\n",
    "- Read the README.md file\n",
    "- Comment as much as you can and use the resources (README.md file)\n",
    "- Happy learning!"
   ]
  },
  {
   "cell_type": "code",
   "execution_count": 1,
   "metadata": {},
   "outputs": [],
   "source": [
    "# import numpy and pandas\n",
    "import pandas as pd\n",
    "import numpy as np\n",
    "from scipy.stats import trim_mean, mode, skew, gaussian_kde, pearsonr, spearmanr, beta\n",
    "from statsmodels.stats.weightstats import ztest as ztest\n",
    "\n",
    "from scipy.stats import ttest_ind, norm, t\n",
    "from scipy.stats import f_oneway\n",
    "from scipy.stats import sem"
   ]
  },
  {
   "cell_type": "markdown",
   "metadata": {},
   "source": [
    "# Challenge 1 - Exploring the Data\n",
    "\n",
    "In this challenge, we will examine all salaries of employees of the City of Chicago. We will start by loading the dataset and examining its contents"
   ]
  },
  {
   "cell_type": "code",
   "execution_count": 3,
   "metadata": {},
   "outputs": [],
   "source": [
    "# Run this code:\n",
    "salaries = pd.read_csv(r'/Users/turfdiddy/Desktop/Bootcamp_ds:ml/Week_4/Day_3/lab-hypothesis-testing-en/data/Current_Employee_Names__Salaries__and_Position_Titles.csv')"
   ]
  },
  {
   "cell_type": "markdown",
   "metadata": {},
   "source": [
    "Examine the `salaries` dataset using the `head` function below."
   ]
  },
  {
   "cell_type": "code",
   "execution_count": 7,
   "metadata": {},
   "outputs": [
    {
     "data": {
      "text/html": [
       "<div>\n",
       "<style scoped>\n",
       "    .dataframe tbody tr th:only-of-type {\n",
       "        vertical-align: middle;\n",
       "    }\n",
       "\n",
       "    .dataframe tbody tr th {\n",
       "        vertical-align: top;\n",
       "    }\n",
       "\n",
       "    .dataframe thead th {\n",
       "        text-align: right;\n",
       "    }\n",
       "</style>\n",
       "<table border=\"1\" class=\"dataframe\">\n",
       "  <thead>\n",
       "    <tr style=\"text-align: right;\">\n",
       "      <th></th>\n",
       "      <th>Name</th>\n",
       "      <th>Job Titles</th>\n",
       "      <th>Department</th>\n",
       "      <th>Full or Part-Time</th>\n",
       "      <th>Salary or Hourly</th>\n",
       "      <th>Typical Hours</th>\n",
       "      <th>Annual Salary</th>\n",
       "      <th>Hourly Rate</th>\n",
       "    </tr>\n",
       "  </thead>\n",
       "  <tbody>\n",
       "    <tr>\n",
       "      <th>0</th>\n",
       "      <td>AARON,  JEFFERY M</td>\n",
       "      <td>SERGEANT</td>\n",
       "      <td>POLICE</td>\n",
       "      <td>F</td>\n",
       "      <td>Salary</td>\n",
       "      <td>NaN</td>\n",
       "      <td>101442.0</td>\n",
       "      <td>NaN</td>\n",
       "    </tr>\n",
       "    <tr>\n",
       "      <th>1</th>\n",
       "      <td>AARON,  KARINA</td>\n",
       "      <td>POLICE OFFICER (ASSIGNED AS DETECTIVE)</td>\n",
       "      <td>POLICE</td>\n",
       "      <td>F</td>\n",
       "      <td>Salary</td>\n",
       "      <td>NaN</td>\n",
       "      <td>94122.0</td>\n",
       "      <td>NaN</td>\n",
       "    </tr>\n",
       "    <tr>\n",
       "      <th>2</th>\n",
       "      <td>AARON,  KIMBERLEI R</td>\n",
       "      <td>CHIEF CONTRACT EXPEDITER</td>\n",
       "      <td>GENERAL SERVICES</td>\n",
       "      <td>F</td>\n",
       "      <td>Salary</td>\n",
       "      <td>NaN</td>\n",
       "      <td>101592.0</td>\n",
       "      <td>NaN</td>\n",
       "    </tr>\n",
       "    <tr>\n",
       "      <th>3</th>\n",
       "      <td>ABAD JR,  VICENTE M</td>\n",
       "      <td>CIVIL ENGINEER IV</td>\n",
       "      <td>WATER MGMNT</td>\n",
       "      <td>F</td>\n",
       "      <td>Salary</td>\n",
       "      <td>NaN</td>\n",
       "      <td>110064.0</td>\n",
       "      <td>NaN</td>\n",
       "    </tr>\n",
       "    <tr>\n",
       "      <th>4</th>\n",
       "      <td>ABASCAL,  REECE E</td>\n",
       "      <td>TRAFFIC CONTROL AIDE-HOURLY</td>\n",
       "      <td>OEMC</td>\n",
       "      <td>P</td>\n",
       "      <td>Hourly</td>\n",
       "      <td>20.0</td>\n",
       "      <td>NaN</td>\n",
       "      <td>19.86</td>\n",
       "    </tr>\n",
       "    <tr>\n",
       "      <th>...</th>\n",
       "      <td>...</td>\n",
       "      <td>...</td>\n",
       "      <td>...</td>\n",
       "      <td>...</td>\n",
       "      <td>...</td>\n",
       "      <td>...</td>\n",
       "      <td>...</td>\n",
       "      <td>...</td>\n",
       "    </tr>\n",
       "    <tr>\n",
       "      <th>33178</th>\n",
       "      <td>ZYLINSKA,  KATARZYNA</td>\n",
       "      <td>POLICE OFFICER</td>\n",
       "      <td>POLICE</td>\n",
       "      <td>F</td>\n",
       "      <td>Salary</td>\n",
       "      <td>NaN</td>\n",
       "      <td>72510.0</td>\n",
       "      <td>NaN</td>\n",
       "    </tr>\n",
       "    <tr>\n",
       "      <th>33179</th>\n",
       "      <td>ZYMANTAS,  LAURA C</td>\n",
       "      <td>POLICE OFFICER</td>\n",
       "      <td>POLICE</td>\n",
       "      <td>F</td>\n",
       "      <td>Salary</td>\n",
       "      <td>NaN</td>\n",
       "      <td>48078.0</td>\n",
       "      <td>NaN</td>\n",
       "    </tr>\n",
       "    <tr>\n",
       "      <th>33180</th>\n",
       "      <td>ZYMANTAS,  MARK E</td>\n",
       "      <td>POLICE OFFICER</td>\n",
       "      <td>POLICE</td>\n",
       "      <td>F</td>\n",
       "      <td>Salary</td>\n",
       "      <td>NaN</td>\n",
       "      <td>90024.0</td>\n",
       "      <td>NaN</td>\n",
       "    </tr>\n",
       "    <tr>\n",
       "      <th>33181</th>\n",
       "      <td>ZYRKOWSKI,  CARLO E</td>\n",
       "      <td>POLICE OFFICER</td>\n",
       "      <td>POLICE</td>\n",
       "      <td>F</td>\n",
       "      <td>Salary</td>\n",
       "      <td>NaN</td>\n",
       "      <td>93354.0</td>\n",
       "      <td>NaN</td>\n",
       "    </tr>\n",
       "    <tr>\n",
       "      <th>33182</th>\n",
       "      <td>ZYSKOWSKI,  DARIUSZ</td>\n",
       "      <td>CHIEF DATA BASE ANALYST</td>\n",
       "      <td>DoIT</td>\n",
       "      <td>F</td>\n",
       "      <td>Salary</td>\n",
       "      <td>NaN</td>\n",
       "      <td>115932.0</td>\n",
       "      <td>NaN</td>\n",
       "    </tr>\n",
       "  </tbody>\n",
       "</table>\n",
       "<p>33183 rows × 8 columns</p>\n",
       "</div>"
      ],
      "text/plain": [
       "                        Name                              Job Titles  \\\n",
       "0          AARON,  JEFFERY M                                SERGEANT   \n",
       "1            AARON,  KARINA   POLICE OFFICER (ASSIGNED AS DETECTIVE)   \n",
       "2        AARON,  KIMBERLEI R                CHIEF CONTRACT EXPEDITER   \n",
       "3        ABAD JR,  VICENTE M                       CIVIL ENGINEER IV   \n",
       "4          ABASCAL,  REECE E             TRAFFIC CONTROL AIDE-HOURLY   \n",
       "...                      ...                                     ...   \n",
       "33178  ZYLINSKA,  KATARZYNA                           POLICE OFFICER   \n",
       "33179     ZYMANTAS,  LAURA C                          POLICE OFFICER   \n",
       "33180      ZYMANTAS,  MARK E                          POLICE OFFICER   \n",
       "33181    ZYRKOWSKI,  CARLO E                          POLICE OFFICER   \n",
       "33182   ZYSKOWSKI,  DARIUSZ                  CHIEF DATA BASE ANALYST   \n",
       "\n",
       "             Department Full or Part-Time Salary or Hourly  Typical Hours  \\\n",
       "0                POLICE                 F           Salary            NaN   \n",
       "1                POLICE                 F           Salary            NaN   \n",
       "2      GENERAL SERVICES                 F           Salary            NaN   \n",
       "3           WATER MGMNT                 F           Salary            NaN   \n",
       "4                  OEMC                 P           Hourly           20.0   \n",
       "...                 ...               ...              ...            ...   \n",
       "33178            POLICE                 F           Salary            NaN   \n",
       "33179            POLICE                 F           Salary            NaN   \n",
       "33180            POLICE                 F           Salary            NaN   \n",
       "33181            POLICE                 F           Salary            NaN   \n",
       "33182              DoIT                 F           Salary            NaN   \n",
       "\n",
       "       Annual Salary  Hourly Rate  \n",
       "0           101442.0          NaN  \n",
       "1            94122.0          NaN  \n",
       "2           101592.0          NaN  \n",
       "3           110064.0          NaN  \n",
       "4                NaN        19.86  \n",
       "...              ...          ...  \n",
       "33178        72510.0          NaN  \n",
       "33179        48078.0          NaN  \n",
       "33180        90024.0          NaN  \n",
       "33181        93354.0          NaN  \n",
       "33182       115932.0          NaN  \n",
       "\n",
       "[33183 rows x 8 columns]"
      ]
     },
     "execution_count": 7,
     "metadata": {},
     "output_type": "execute_result"
    }
   ],
   "source": [
    "salaries"
   ]
  },
  {
   "cell_type": "code",
   "execution_count": 4,
   "metadata": {},
   "outputs": [
    {
     "data": {
      "text/html": [
       "<div>\n",
       "<style scoped>\n",
       "    .dataframe tbody tr th:only-of-type {\n",
       "        vertical-align: middle;\n",
       "    }\n",
       "\n",
       "    .dataframe tbody tr th {\n",
       "        vertical-align: top;\n",
       "    }\n",
       "\n",
       "    .dataframe thead th {\n",
       "        text-align: right;\n",
       "    }\n",
       "</style>\n",
       "<table border=\"1\" class=\"dataframe\">\n",
       "  <thead>\n",
       "    <tr style=\"text-align: right;\">\n",
       "      <th></th>\n",
       "      <th>Name</th>\n",
       "      <th>Job Titles</th>\n",
       "      <th>Department</th>\n",
       "      <th>Full or Part-Time</th>\n",
       "      <th>Salary or Hourly</th>\n",
       "      <th>Typical Hours</th>\n",
       "      <th>Annual Salary</th>\n",
       "      <th>Hourly Rate</th>\n",
       "    </tr>\n",
       "  </thead>\n",
       "  <tbody>\n",
       "    <tr>\n",
       "      <th>0</th>\n",
       "      <td>AARON,  JEFFERY M</td>\n",
       "      <td>SERGEANT</td>\n",
       "      <td>POLICE</td>\n",
       "      <td>F</td>\n",
       "      <td>Salary</td>\n",
       "      <td>NaN</td>\n",
       "      <td>101442.0</td>\n",
       "      <td>NaN</td>\n",
       "    </tr>\n",
       "    <tr>\n",
       "      <th>1</th>\n",
       "      <td>AARON,  KARINA</td>\n",
       "      <td>POLICE OFFICER (ASSIGNED AS DETECTIVE)</td>\n",
       "      <td>POLICE</td>\n",
       "      <td>F</td>\n",
       "      <td>Salary</td>\n",
       "      <td>NaN</td>\n",
       "      <td>94122.0</td>\n",
       "      <td>NaN</td>\n",
       "    </tr>\n",
       "    <tr>\n",
       "      <th>2</th>\n",
       "      <td>AARON,  KIMBERLEI R</td>\n",
       "      <td>CHIEF CONTRACT EXPEDITER</td>\n",
       "      <td>GENERAL SERVICES</td>\n",
       "      <td>F</td>\n",
       "      <td>Salary</td>\n",
       "      <td>NaN</td>\n",
       "      <td>101592.0</td>\n",
       "      <td>NaN</td>\n",
       "    </tr>\n",
       "    <tr>\n",
       "      <th>3</th>\n",
       "      <td>ABAD JR,  VICENTE M</td>\n",
       "      <td>CIVIL ENGINEER IV</td>\n",
       "      <td>WATER MGMNT</td>\n",
       "      <td>F</td>\n",
       "      <td>Salary</td>\n",
       "      <td>NaN</td>\n",
       "      <td>110064.0</td>\n",
       "      <td>NaN</td>\n",
       "    </tr>\n",
       "    <tr>\n",
       "      <th>4</th>\n",
       "      <td>ABASCAL,  REECE E</td>\n",
       "      <td>TRAFFIC CONTROL AIDE-HOURLY</td>\n",
       "      <td>OEMC</td>\n",
       "      <td>P</td>\n",
       "      <td>Hourly</td>\n",
       "      <td>20.0</td>\n",
       "      <td>NaN</td>\n",
       "      <td>19.86</td>\n",
       "    </tr>\n",
       "  </tbody>\n",
       "</table>\n",
       "</div>"
      ],
      "text/plain": [
       "                  Name                              Job Titles  \\\n",
       "0    AARON,  JEFFERY M                                SERGEANT   \n",
       "1      AARON,  KARINA   POLICE OFFICER (ASSIGNED AS DETECTIVE)   \n",
       "2  AARON,  KIMBERLEI R                CHIEF CONTRACT EXPEDITER   \n",
       "3  ABAD JR,  VICENTE M                       CIVIL ENGINEER IV   \n",
       "4    ABASCAL,  REECE E             TRAFFIC CONTROL AIDE-HOURLY   \n",
       "\n",
       "         Department Full or Part-Time Salary or Hourly  Typical Hours  \\\n",
       "0            POLICE                 F           Salary            NaN   \n",
       "1            POLICE                 F           Salary            NaN   \n",
       "2  GENERAL SERVICES                 F           Salary            NaN   \n",
       "3       WATER MGMNT                 F           Salary            NaN   \n",
       "4              OEMC                 P           Hourly           20.0   \n",
       "\n",
       "   Annual Salary  Hourly Rate  \n",
       "0       101442.0          NaN  \n",
       "1        94122.0          NaN  \n",
       "2       101592.0          NaN  \n",
       "3       110064.0          NaN  \n",
       "4            NaN        19.86  "
      ]
     },
     "execution_count": 4,
     "metadata": {},
     "output_type": "execute_result"
    }
   ],
   "source": [
    "# Your code here\n",
    "salaries.head()"
   ]
  },
  {
   "cell_type": "code",
   "execution_count": 6,
   "metadata": {},
   "outputs": [
    {
     "name": "stdout",
     "output_type": "stream",
     "text": [
      "<class 'pandas.core.frame.DataFrame'>\n",
      "RangeIndex: 33183 entries, 0 to 33182\n",
      "Data columns (total 8 columns):\n",
      " #   Column             Non-Null Count  Dtype  \n",
      "---  ------             --------------  -----  \n",
      " 0   Name               33183 non-null  object \n",
      " 1   Job Titles         33183 non-null  object \n",
      " 2   Department         33183 non-null  object \n",
      " 3   Full or Part-Time  33183 non-null  object \n",
      " 4   Salary or Hourly   33183 non-null  object \n",
      " 5   Typical Hours      8022 non-null   float64\n",
      " 6   Annual Salary      25161 non-null  float64\n",
      " 7   Hourly Rate        8022 non-null   float64\n",
      "dtypes: float64(3), object(5)\n",
      "memory usage: 2.0+ MB\n"
     ]
    }
   ],
   "source": [
    "salaries.info()"
   ]
  },
  {
   "cell_type": "code",
   "execution_count": null,
   "metadata": {},
   "outputs": [],
   "source": [
    "salaries.sample()"
   ]
  },
  {
   "cell_type": "markdown",
   "metadata": {},
   "source": [
    "# Challenge 2 - Hypothesis Tests\n",
    "\n",
    "In this section of the lab, we will test whether the hourly wage of all hourly workers is significantly different from $30/hr. Import the correct one sample test function from scipy and perform the hypothesis test for a 95% two sided confidence interval."
   ]
  },
  {
   "cell_type": "markdown",
   "metadata": {},
   "source": [
    "## Hypothesis\n",
    "\n",
    "**H0: Hourly wage is 30$**\n",
    "\n",
    "**H1: Hourly wage is significantly different from 30$**"
   ]
  },
  {
   "cell_type": "code",
   "execution_count": 8,
   "metadata": {},
   "outputs": [
    {
     "data": {
      "text/html": [
       "<div>\n",
       "<style scoped>\n",
       "    .dataframe tbody tr th:only-of-type {\n",
       "        vertical-align: middle;\n",
       "    }\n",
       "\n",
       "    .dataframe tbody tr th {\n",
       "        vertical-align: top;\n",
       "    }\n",
       "\n",
       "    .dataframe thead th {\n",
       "        text-align: right;\n",
       "    }\n",
       "</style>\n",
       "<table border=\"1\" class=\"dataframe\">\n",
       "  <thead>\n",
       "    <tr style=\"text-align: right;\">\n",
       "      <th></th>\n",
       "      <th>Name</th>\n",
       "      <th>Job Titles</th>\n",
       "      <th>Department</th>\n",
       "      <th>Full or Part-Time</th>\n",
       "      <th>Salary or Hourly</th>\n",
       "      <th>Typical Hours</th>\n",
       "      <th>Annual Salary</th>\n",
       "      <th>Hourly Rate</th>\n",
       "    </tr>\n",
       "  </thead>\n",
       "  <tbody>\n",
       "    <tr>\n",
       "      <th>24975</th>\n",
       "      <td>ROBERSON,  DEBBIE L</td>\n",
       "      <td>PAYMENT SERVICES REPRESENTATIVE</td>\n",
       "      <td>FINANCE</td>\n",
       "      <td>F</td>\n",
       "      <td>Salary</td>\n",
       "      <td>NaN</td>\n",
       "      <td>70092.0</td>\n",
       "      <td>NaN</td>\n",
       "    </tr>\n",
       "    <tr>\n",
       "      <th>1484</th>\n",
       "      <td>BANKS,  PATRICIA M</td>\n",
       "      <td>CROSSING GUARD - PER CBA</td>\n",
       "      <td>OEMC</td>\n",
       "      <td>P</td>\n",
       "      <td>Hourly</td>\n",
       "      <td>20.0</td>\n",
       "      <td>NaN</td>\n",
       "      <td>18.22</td>\n",
       "    </tr>\n",
       "    <tr>\n",
       "      <th>17667</th>\n",
       "      <td>MAGNO,  MICHAEL S</td>\n",
       "      <td>SERGEANT</td>\n",
       "      <td>POLICE</td>\n",
       "      <td>F</td>\n",
       "      <td>Salary</td>\n",
       "      <td>NaN</td>\n",
       "      <td>104628.0</td>\n",
       "      <td>NaN</td>\n",
       "    </tr>\n",
       "    <tr>\n",
       "      <th>11771</th>\n",
       "      <td>HANKIN,  JAMES F</td>\n",
       "      <td>COORD OF SPECIAL PROJECTS</td>\n",
       "      <td>AVIATION</td>\n",
       "      <td>F</td>\n",
       "      <td>Salary</td>\n",
       "      <td>NaN</td>\n",
       "      <td>97740.0</td>\n",
       "      <td>NaN</td>\n",
       "    </tr>\n",
       "    <tr>\n",
       "      <th>1174</th>\n",
       "      <td>AUSTIN,  RANCE R</td>\n",
       "      <td>GENERAL LABORER - AVIATION</td>\n",
       "      <td>AVIATION</td>\n",
       "      <td>F</td>\n",
       "      <td>Hourly</td>\n",
       "      <td>40.0</td>\n",
       "      <td>NaN</td>\n",
       "      <td>19.61</td>\n",
       "    </tr>\n",
       "    <tr>\n",
       "      <th>...</th>\n",
       "      <td>...</td>\n",
       "      <td>...</td>\n",
       "      <td>...</td>\n",
       "      <td>...</td>\n",
       "      <td>...</td>\n",
       "      <td>...</td>\n",
       "      <td>...</td>\n",
       "      <td>...</td>\n",
       "    </tr>\n",
       "    <tr>\n",
       "      <th>26463</th>\n",
       "      <td>SANTOS,  MICHAEL J</td>\n",
       "      <td>SERGEANT</td>\n",
       "      <td>POLICE</td>\n",
       "      <td>F</td>\n",
       "      <td>Salary</td>\n",
       "      <td>NaN</td>\n",
       "      <td>107988.0</td>\n",
       "      <td>NaN</td>\n",
       "    </tr>\n",
       "    <tr>\n",
       "      <th>13248</th>\n",
       "      <td>HUDDLESTON,  JAMES E</td>\n",
       "      <td>AVIATION COMMUNICATIONS OPERATOR</td>\n",
       "      <td>OEMC</td>\n",
       "      <td>F</td>\n",
       "      <td>Salary</td>\n",
       "      <td>NaN</td>\n",
       "      <td>70644.0</td>\n",
       "      <td>NaN</td>\n",
       "    </tr>\n",
       "    <tr>\n",
       "      <th>21341</th>\n",
       "      <td>NORTON,  ERICK J</td>\n",
       "      <td>WARD SUPERINTENDENT</td>\n",
       "      <td>STREETS &amp; SAN</td>\n",
       "      <td>F</td>\n",
       "      <td>Salary</td>\n",
       "      <td>NaN</td>\n",
       "      <td>88188.0</td>\n",
       "      <td>NaN</td>\n",
       "    </tr>\n",
       "    <tr>\n",
       "      <th>9061</th>\n",
       "      <td>FLORES,  EMMANUEL</td>\n",
       "      <td>POLICE OFFICER</td>\n",
       "      <td>POLICE</td>\n",
       "      <td>F</td>\n",
       "      <td>Salary</td>\n",
       "      <td>NaN</td>\n",
       "      <td>48078.0</td>\n",
       "      <td>NaN</td>\n",
       "    </tr>\n",
       "    <tr>\n",
       "      <th>16206</th>\n",
       "      <td>LANDERS,  MICHAEL</td>\n",
       "      <td>SR LABOR RELATIONS SPECIALIST</td>\n",
       "      <td>STREETS &amp; SAN</td>\n",
       "      <td>F</td>\n",
       "      <td>Salary</td>\n",
       "      <td>NaN</td>\n",
       "      <td>62448.0</td>\n",
       "      <td>NaN</td>\n",
       "    </tr>\n",
       "  </tbody>\n",
       "</table>\n",
       "<p>200 rows × 8 columns</p>\n",
       "</div>"
      ],
      "text/plain": [
       "                       Name                        Job Titles     Department  \\\n",
       "24975   ROBERSON,  DEBBIE L   PAYMENT SERVICES REPRESENTATIVE        FINANCE   \n",
       "1484     BANKS,  PATRICIA M          CROSSING GUARD - PER CBA           OEMC   \n",
       "17667     MAGNO,  MICHAEL S                          SERGEANT         POLICE   \n",
       "11771      HANKIN,  JAMES F         COORD OF SPECIAL PROJECTS       AVIATION   \n",
       "1174       AUSTIN,  RANCE R        GENERAL LABORER - AVIATION       AVIATION   \n",
       "...                     ...                               ...            ...   \n",
       "26463    SANTOS,  MICHAEL J                          SERGEANT         POLICE   \n",
       "13248  HUDDLESTON,  JAMES E  AVIATION COMMUNICATIONS OPERATOR           OEMC   \n",
       "21341      NORTON,  ERICK J               WARD SUPERINTENDENT  STREETS & SAN   \n",
       "9061     FLORES,  EMMANUEL                     POLICE OFFICER         POLICE   \n",
       "16206    LANDERS,  MICHAEL      SR LABOR RELATIONS SPECIALIST  STREETS & SAN   \n",
       "\n",
       "      Full or Part-Time Salary or Hourly  Typical Hours  Annual Salary  \\\n",
       "24975                 F           Salary            NaN        70092.0   \n",
       "1484                  P           Hourly           20.0            NaN   \n",
       "17667                 F           Salary            NaN       104628.0   \n",
       "11771                 F           Salary            NaN        97740.0   \n",
       "1174                  F           Hourly           40.0            NaN   \n",
       "...                 ...              ...            ...            ...   \n",
       "26463                 F           Salary            NaN       107988.0   \n",
       "13248                 F           Salary            NaN        70644.0   \n",
       "21341                 F           Salary            NaN        88188.0   \n",
       "9061                  F           Salary            NaN        48078.0   \n",
       "16206                 F           Salary            NaN        62448.0   \n",
       "\n",
       "       Hourly Rate  \n",
       "24975          NaN  \n",
       "1484         18.22  \n",
       "17667          NaN  \n",
       "11771          NaN  \n",
       "1174         19.61  \n",
       "...            ...  \n",
       "26463          NaN  \n",
       "13248          NaN  \n",
       "21341          NaN  \n",
       "9061           NaN  \n",
       "16206          NaN  \n",
       "\n",
       "[200 rows x 8 columns]"
      ]
     },
     "execution_count": 8,
     "metadata": {},
     "output_type": "execute_result"
    }
   ],
   "source": [
    "salaries.sample(200)"
   ]
  },
  {
   "cell_type": "code",
   "execution_count": 11,
   "metadata": {},
   "outputs": [
    {
     "data": {
      "text/plain": [
       "23972    10.00\n",
       "28458     2.65\n",
       "32860    35.60\n",
       "23429    40.20\n",
       "28941    49.10\n",
       "         ...  \n",
       "22044    37.56\n",
       "653      13.00\n",
       "509      22.12\n",
       "4401     21.20\n",
       "31854    32.09\n",
       "Name: Hourly Rate, Length: 300, dtype: float64"
      ]
     },
     "execution_count": 11,
     "metadata": {},
     "output_type": "execute_result"
    }
   ],
   "source": [
    "c1 = salaries[salaries['Salary or Hourly']== \"Hourly\"]['Hourly Rate'].sample(300)\n",
    "c1\n"
   ]
  },
  {
   "cell_type": "code",
   "execution_count": 13,
   "metadata": {},
   "outputs": [
    {
     "data": {
      "text/plain": [
       "TtestResult(statistic=2.681045469263795, pvalue=0.0077466808084493965, df=299)"
      ]
     },
     "execution_count": 13,
     "metadata": {},
     "output_type": "execute_result"
    }
   ],
   "source": [
    "import scipy.stats as st\n",
    "st.ttest_1samp(c1,30)"
   ]
  },
  {
   "cell_type": "markdown",
   "metadata": {},
   "source": [
    "**The P Value is less than the significant level 0.05. For this reason we reject the HO hypothesis**"
   ]
  },
  {
   "cell_type": "markdown",
   "metadata": {},
   "source": [
    "# Challenge 3 - Constructing Confidence Intervals\n",
    "\n",
    "While testing our hypothesis is a great way to gather empirical evidence for accepting or rejecting the hypothesis, another way to gather evidence is by creating a confidence interval. A confidence interval gives us information about the true mean of the population. So for a 95% confidence interval, we are 95% sure that the mean of the population is within the confidence interval. \n",
    ").\n",
    "\n",
    "To read more about confidence intervals, click [here](https://en.wikipedia.org/wiki/Confidence_interval).\n",
    "\n",
    "\n",
    "In the cell below, we will construct a 95% confidence interval for the mean hourly wage of all hourly workers. \n",
    "\n",
    "The confidence interval is computed in SciPy using the `t.interval` function. You can read more about this function [here](https://docs.scipy.org/doc/scipy-0.14.0/reference/generated/scipy.stats.t.html).\n",
    "\n",
    "To compute the confidence interval of the hourly wage, use the 0.95 for the confidence level, number of rows - 1 for degrees of freedom, the mean of the sample for the location parameter and the standard error for the scale. The standard error can be computed using [this](https://docs.scipy.org/doc/scipy/reference/generated/scipy.stats.sem.html) function in SciPy."
   ]
  },
  {
   "cell_type": "code",
   "execution_count": 15,
   "metadata": {},
   "outputs": [
    {
     "data": {
      "text/plain": [
       "4        19.86\n",
       "6        46.10\n",
       "7        35.60\n",
       "10        2.65\n",
       "18       17.68\n",
       "         ...  \n",
       "33164    46.10\n",
       "33168    17.68\n",
       "33169    35.60\n",
       "33174    46.35\n",
       "33175    48.85\n",
       "Name: Hourly Rate, Length: 8022, dtype: float64"
      ]
     },
     "execution_count": 15,
     "metadata": {},
     "output_type": "execute_result"
    }
   ],
   "source": [
    "# Your code here\n",
    "\n",
    "\n",
    "hourly_wages=salaries[salaries['Salary or Hourly']== \"Hourly\"]['Hourly Rate']\n",
    "hourly_wages\n"
   ]
  },
  {
   "cell_type": "code",
   "execution_count": 23,
   "metadata": {},
   "outputs": [],
   "source": [
    "hourly_wages_mean=np.mean(hourly_wages)"
   ]
  },
  {
   "cell_type": "code",
   "execution_count": 17,
   "metadata": {},
   "outputs": [],
   "source": [
    "degrees_of_freedom=len(hourly_wages)-1"
   ]
  },
  {
   "cell_type": "code",
   "execution_count": 32,
   "metadata": {},
   "outputs": [],
   "source": [
    "mean=hourly_wages.mean()"
   ]
  },
  {
   "cell_type": "code",
   "execution_count": null,
   "metadata": {},
   "outputs": [],
   "source": [
    "from scipy import stats\n",
    "#sem is the standard error of the mean directly"
   ]
  },
  {
   "cell_type": "code",
   "execution_count": 25,
   "metadata": {},
   "outputs": [],
   "source": [
    "standard_error_of_the_mean=stats.sem(hourly_wages)"
   ]
  },
  {
   "cell_type": "code",
   "execution_count": 27,
   "metadata": {},
   "outputs": [],
   "source": [
    "from scipy.stats import sem\n",
    "se = sem(hourly_wages)          # call it"
   ]
  },
  {
   "cell_type": "code",
   "execution_count": 34,
   "metadata": {},
   "outputs": [
    {
     "name": "stdout",
     "output_type": "stream",
     "text": [
      "Mean hourly rate 32.78855771628024\n",
      "95% Confidence Interval: (32.52345834488425, 33.05365708767623)\n"
     ]
    }
   ],
   "source": [
    "confidence_interval = stats.t.interval(\n",
    "    0.95,      # confidence level\n",
    "    degrees_of_freedom,        # degrees of freedom\n",
    "    loc=hourly_wages_mean, \n",
    "    scale=standard_error_of_the_mean\n",
    ")\n",
    "\n",
    "print(\"Mean hourly rate\", mean)\n",
    "print(f\"95% Confidence Interval: {confidence_interval}\")"
   ]
  },
  {
   "cell_type": "markdown",
   "metadata": {},
   "source": [
    "# Challenge 4 - Hypothesis Tests of Proportions\n",
    "\n",
    "Another type of one sample test is a hypothesis test of proportions. In this test, we examine whether the proportion of a group in our sample is significantly different than a fraction. \n",
    "\n",
    "You can read more about one sample proportion tests [here](http://sphweb.bumc.bu.edu/otlt/MPH-Modules/BS/SAS/SAS6-CategoricalData/SAS6-CategoricalData2.html).\n",
    "\n",
    "In the cell below, use the `proportions_ztest` function from `statsmodels` to perform a hypothesis test that will determine whether the number of hourly workers in the City of Chicago is significantly different from 25% at the 95% confidence level."
   ]
  },
  {
   "cell_type": "code",
   "execution_count": 38,
   "metadata": {},
   "outputs": [
    {
     "data": {
      "text/plain": [
       "4             ABASCAL,  REECE E\n",
       "6         ABBATACOLA,  ROBERT J\n",
       "7            ABBATE,  JOSEPH L \n",
       "10             ABBOTT,  BETTY L\n",
       "18         ABDULLAH,  LAKENYA N\n",
       "                  ...          \n",
       "33164          ZUREK,  FRANCIS \n",
       "33168    ZWARYCZ MANN,  IRENE A\n",
       "33169        ZWARYCZ,  THOMAS J\n",
       "33174          ZYGADLO,  JOHN P\n",
       "33175       ZYGADLO,  MICHAEL J\n",
       "Name: Name, Length: 8022, dtype: object"
      ]
     },
     "execution_count": 38,
     "metadata": {},
     "output_type": "execute_result"
    }
   ],
   "source": [
    "# Your code here\n",
    "from statsmodels.stats.proportion import proportions_ztest, proportion_confint\n",
    "\n",
    "number_of_hourly_worker=salaries[salaries[\"Salary or Hourly\"]=='Hourly'][\"Name\"]\n",
    "number_of_hourly_worker"
   ]
  },
  {
   "cell_type": "code",
   "execution_count": null,
   "metadata": {},
   "outputs": [],
   "source": [
    "is_hourly = salaries['Salary or Hourly'].eq('Hourly')\n"
   ]
  },
  {
   "cell_type": "code",
   "execution_count": 42,
   "metadata": {},
   "outputs": [
    {
     "name": "stdout",
     "output_type": "stream",
     "text": [
      "Z-statistic: -3.5099964213703005\n",
      "P-value: 0.00044811272490579676\n",
      "Reject H₀: the proportion of hourly workers is significantly different from 25%.\n"
     ]
    }
   ],
   "source": [
    "# Total number of employees\n",
    "total_employees = len(salaries)\n",
    "\n",
    "# Number of hourly workers\n",
    "hourly_workers = salaries[salaries['Salary or Hourly'] == 'Hourly']\n",
    "num_hourly = len(hourly_workers)\n",
    "\n",
    "# Perform the one-sample proportion z-test\n",
    "stat, p_value = proportions_ztest(count=num_hourly, nobs=total_employees, value=0.25)\n",
    "\n",
    "# Print results\n",
    "print(\"Z-statistic:\", stat)\n",
    "print(\"P-value:\", p_value)\n",
    "\n",
    "# Interpretation\n",
    "alpha = 0.05\n",
    "if p_value < alpha:\n",
    "    print(\"Reject H₀: the proportion of hourly workers is significantly different from 25%.\")\n",
    "else:\n",
    "    print(\"Fail to reject H₀: no significant evidence that the proportion differs from 25%.\")"
   ]
  },
  {
   "cell_type": "code",
   "execution_count": 41,
   "metadata": {},
   "outputs": [
    {
     "name": "stdout",
     "output_type": "stream",
     "text": [
      "z = -3.510, p-value = 0.0004\n",
      "Sample proportion p̂ = 0.2418\n",
      "95% CI (Wilson): (0.2372, 0.2464)\n",
      "Reject H0\n"
     ]
    }
   ],
   "source": [
    "from statsmodels.stats.proportion import proportions_ztest, proportion_confint\n",
    "\n",
    "# Boolean mask: True for hourly rows\n",
    "is_hourly = salaries['Salary or Hourly'].eq('Hourly')\n",
    "\n",
    "# Counts for the test\n",
    "count = is_hourly.sum()                 # number of hourly workers\n",
    "nobs  = is_hourly.notna().sum()         # total valid rows (or simply len(salaries))\n",
    "\n",
    "# One-sample proportion z-test: H0: p = 0.25 vs. H1: p ≠ 0.25\n",
    "zstat, pval = proportions_ztest(count=count, nobs=nobs, value=0.25, alternative='two-sided')\n",
    "print(f\"z = {zstat:.3f}, p-value = {pval:.4f}\")\n",
    "\n",
    "# 95% confidence interval for the true proportion (Wilson is robust)\n",
    "p_hat = count / nobs\n",
    "ci_low, ci_high = proportion_confint(count, nobs, alpha=0.05, method='wilson')\n",
    "print(f\"Sample proportion p̂ = {p_hat:.4f}\")\n",
    "print(f\"95% CI (Wilson): ({ci_low:.4f}, {ci_high:.4f})\")\n",
    "\n",
    "# Decision at α = 0.05\n",
    "alpha = 0.05\n",
    "print(\"Reject H0\" if pval < alpha else \"Fail to reject H0\")"
   ]
  }
 ],
 "metadata": {
  "kernelspec": {
   "display_name": "base",
   "language": "python",
   "name": "python3"
  },
  "language_info": {
   "codemirror_mode": {
    "name": "ipython",
    "version": 3
   },
   "file_extension": ".py",
   "mimetype": "text/x-python",
   "name": "python",
   "nbconvert_exporter": "python",
   "pygments_lexer": "ipython3",
   "version": "3.12.7"
  }
 },
 "nbformat": 4,
 "nbformat_minor": 2
}
